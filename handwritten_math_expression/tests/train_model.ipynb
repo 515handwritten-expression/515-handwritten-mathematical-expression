{
  "nbformat": 4,
  "nbformat_minor": 0,
  "metadata": {
    "colab": {
      "name": "train_model.ipynb",
      "provenance": [],
      "collapsed_sections": []
    },
    "kernelspec": {
      "name": "python3",
      "display_name": "Python 3"
    },
    "accelerator": "TPU"
  },
  "cells": [
    {
      "cell_type": "code",
      "metadata": {
        "colab": {
          "base_uri": "https://localhost:8080/"
        },
        "id": "DQhtHayWVTo5",
        "outputId": "ceb76458-4ee4-4430-c492-3cbd5b67dd15"
      },
      "source": [
        "import os\n",
        "from google.colab import drive\n",
        "drive.mount(\"/trainPNGSeg/\")\n",
        "os.chdir(\"/trainPNGSeg/Shareddrives/515_handwritten/trainPNGSeg\")"
      ],
      "execution_count": 7,
      "outputs": [
        {
          "output_type": "stream",
          "text": [
            "Drive already mounted at /trainPNGSeg/; to attempt to forcibly remount, call drive.mount(\"/trainPNGSeg/\", force_remount=True).\n"
          ],
          "name": "stdout"
        }
      ]
    },
    {
      "cell_type": "code",
      "metadata": {
        "colab": {
          "base_uri": "https://localhost:8080/"
        },
        "id": "eOkxhmFZ-w6P",
        "outputId": "91fb1679-4f1a-4efc-d498-e2dd52494f79"
      },
      "source": [
        "%ls"
      ],
      "execution_count": 12,
      "outputs": [
        {
          "output_type": "stream",
          "text": [
            "\u001b[0m\u001b[01;34m'='\u001b[0m/  \u001b[01;34m')'\u001b[0m/   \u001b[01;34m1\u001b[0m/   \u001b[01;34m4\u001b[0m/   \u001b[01;34m7\u001b[0m/   \u001b[01;34mdiv\u001b[0m/   \u001b[01;34mgt\u001b[0m/             \u001b[01;34mlt\u001b[0m/    \u001b[01;34mpm\u001b[0m/\n",
            " \u001b[01;34m-\u001b[0m/    \u001b[01;34m+\u001b[0m/    \u001b[01;34m2\u001b[0m/   \u001b[01;34m5\u001b[0m/   \u001b[01;34m8\u001b[0m/   \u001b[01;34me\u001b[0m/     label_map.npy   \u001b[01;34mneq\u001b[0m/   \u001b[01;34mtimes\u001b[0m/\n",
            "\u001b[01;34m'('\u001b[0m/   \u001b[01;34m0\u001b[0m/    \u001b[01;34m3\u001b[0m/   \u001b[01;34m6\u001b[0m/   \u001b[01;34m9\u001b[0m/   \u001b[01;34mgeq\u001b[0m/   \u001b[01;34mleq\u001b[0m/            \u001b[01;34mpi\u001b[0m/\n"
          ],
          "name": "stdout"
        }
      ]
    },
    {
      "cell_type": "code",
      "metadata": {
        "colab": {
          "base_uri": "https://localhost:8080/"
        },
        "id": "NMBnaXP7ovRq",
        "outputId": "bbf8f39b-08c3-4cf3-c5f0-cfc41b952cae"
      },
      "source": [
        "from os.path import isfile\n",
        "if isfile(\"label_map.npy\"):\n",
        "    class_indices = np.load(\"label_map.npy\",allow_pickle=True).item()\n",
        "print(class_indices)\n",
        "print(len(class_indices))"
      ],
      "execution_count": 18,
      "outputs": [
        {
          "output_type": "stream",
          "text": [
            "{'(': 0, ')': 1, '+': 2, '-': 3, '0': 4, '1': 5, '2': 6, '3': 7, '4': 8, '5': 9, '6': 10, '7': 11, '8': 12, '9': 13, '=': 14, 'div': 15, 'e': 16, 'geq': 17, 'gt': 18, 'leq': 19, 'lt': 20, 'neq': 21, 'pi': 22, 'pm': 23, 'times': 24}\n",
            "25\n"
          ],
          "name": "stdout"
        }
      ]
    },
    {
      "cell_type": "code",
      "metadata": {
        "colab": {
          "base_uri": "https://localhost:8080/"
        },
        "id": "bCPqle9QUwZK",
        "outputId": "773697a9-668f-40d3-97db-010e0ce42129"
      },
      "source": [
        "import keras\n",
        "from keras.callbacks import ModelCheckpoint\n",
        "from keras.layers import Conv2D, MaxPooling2D, Flatten, Dense\n",
        "from keras.models import Sequential\n",
        "from keras.preprocessing.image import ImageDataGenerator\n",
        "import numpy as np\n",
        "\n",
        "\n",
        "# generate training data-75% and validation data-25%\n",
        "train_data_dir = \"/trainPNGSeg/Shareddrives/515_handwritten/trainPNGSeg\"\n",
        "data_gen = ImageDataGenerator(rescale=1./255, shear_range=0.2, zoom_range=0.2, horizontal_flip=True, validation_split=0.25)\n",
        "\n",
        "train_dataset = data_gen.flow_from_directory(train_data_dir, target_size=(32, 32), color_mode=\"grayscale\", batch_size= 15, subset='training')\n",
        "validation_dataset = data_gen.flow_from_directory(train_data_dir, target_size=(32, 32), color_mode=\"grayscale\", batch_size= 15, subset='validation')\n",
        "\n",
        "# numClasses = how many characters total in label_map\n",
        "label_map = (train_dataset.class_indices)\n",
        "numClasses = len(label_map)\n",
        "\n",
        "# save tge label_map to local as .npy\n",
        "np.save('label_map_v3.npy', label_map)\n",
        "\n",
        "# overwrite and save the model with the best val_acc (the accuracy of a batch of testing data)\n",
        "checkpoint = ModelCheckpoint(train_data_dir, monitor='val_accuracy', verbose=1, save_best_only=True, mode='max')\n",
        "\n",
        "# initialize lenet model\n",
        "model = Sequential()\n",
        "model.add(Conv2D(filters=32, kernel_size=(5,5), strides=(1,1), padding='same', input_shape = (32,32,1), activation = 'relu'))\n",
        "model.add(MaxPooling2D(pool_size=(2,2),strides=(2,2)))\n",
        "\n",
        "model.add(Conv2D(filters=48, kernel_size=(5,5), strides=(1,1), padding='valid', activation = 'relu'))\n",
        "model.add(MaxPooling2D(pool_size=(2,2),strides=(2,2)))\n",
        "\n",
        "model.add(Flatten())\n",
        "model.add(Dense(units=128, activation='relu'))\n",
        "model.add(Dense(units=84, activation='relu'))\n",
        "model.add(Dense(units=numClasses, activation = 'softmax'))\n",
        "\n",
        "# compile model & fit model with training and validation data\n",
        "model.compile(optimizer='adam', loss='categorical_crossentropy', metrics=['accuracy'])\n",
        "print(\"training...\")\n",
        "\n",
        "model.fit(train_dataset, steps_per_epoch = len(train_dataset), validation_data = validation_dataset,  validation_steps = len(validation_dataset), epochs = 15, callbacks = [checkpoint])\n",
        "\n",
        "#saving model to .h5 file in train_data_dir\n",
        "print(\"saving model...\")\n",
        "model.save('LeNetModel_v3.h5')\n",
        "\n",
        "print(\"evaluating...\")\n",
        "score = model.evaluate(validation_dataset)\n",
        "print('Test Loss:', score[0])\n",
        "print('Test accuracy:', score[1])\n",
        "\n"
      ],
      "execution_count": 19,
      "outputs": [
        {
          "output_type": "stream",
          "text": [
            "Found 6922 images belonging to 25 classes.\n",
            "Found 2298 images belonging to 25 classes.\n",
            "training...\n",
            "Epoch 1/15\n",
            "462/462 [==============================] - 30s 64ms/step - loss: 2.9872 - accuracy: 0.1194 - val_loss: 1.3649 - val_accuracy: 0.5705\n",
            "\n",
            "Epoch 00001: val_accuracy improved from -inf to 0.57050, saving model to /trainPNGSeg/Shareddrives/515_handwritten/trainPNGSeg\n",
            "INFO:tensorflow:Assets written to: /trainPNGSeg/Shareddrives/515_handwritten/trainPNGSeg/assets\n",
            "Epoch 2/15\n",
            "462/462 [==============================] - 31s 67ms/step - loss: 1.0383 - accuracy: 0.6659 - val_loss: 0.7933 - val_accuracy: 0.7319\n",
            "\n",
            "Epoch 00002: val_accuracy improved from 0.57050 to 0.73194, saving model to /trainPNGSeg/Shareddrives/515_handwritten/trainPNGSeg\n",
            "INFO:tensorflow:Assets written to: /trainPNGSeg/Shareddrives/515_handwritten/trainPNGSeg/assets\n",
            "Epoch 3/15\n",
            "462/462 [==============================] - 29s 63ms/step - loss: 0.6577 - accuracy: 0.7836 - val_loss: 0.6510 - val_accuracy: 0.7763\n",
            "\n",
            "Epoch 00003: val_accuracy improved from 0.73194 to 0.77633, saving model to /trainPNGSeg/Shareddrives/515_handwritten/trainPNGSeg\n",
            "INFO:tensorflow:Assets written to: /trainPNGSeg/Shareddrives/515_handwritten/trainPNGSeg/assets\n",
            "Epoch 4/15\n",
            "462/462 [==============================] - 29s 63ms/step - loss: 0.5138 - accuracy: 0.8280 - val_loss: 0.5592 - val_accuracy: 0.8138\n",
            "\n",
            "Epoch 00004: val_accuracy improved from 0.77633 to 0.81375, saving model to /trainPNGSeg/Shareddrives/515_handwritten/trainPNGSeg\n",
            "INFO:tensorflow:Assets written to: /trainPNGSeg/Shareddrives/515_handwritten/trainPNGSeg/assets\n",
            "Epoch 5/15\n",
            "462/462 [==============================] - 30s 65ms/step - loss: 0.4584 - accuracy: 0.8390 - val_loss: 0.5430 - val_accuracy: 0.8081\n",
            "\n",
            "Epoch 00005: val_accuracy did not improve from 0.81375\n",
            "Epoch 6/15\n",
            "462/462 [==============================] - 29s 63ms/step - loss: 0.4254 - accuracy: 0.8544 - val_loss: 0.4757 - val_accuracy: 0.8399\n",
            "\n",
            "Epoch 00006: val_accuracy improved from 0.81375 to 0.83986, saving model to /trainPNGSeg/Shareddrives/515_handwritten/trainPNGSeg\n",
            "INFO:tensorflow:Assets written to: /trainPNGSeg/Shareddrives/515_handwritten/trainPNGSeg/assets\n",
            "Epoch 7/15\n",
            "462/462 [==============================] - 29s 63ms/step - loss: 0.3753 - accuracy: 0.8646 - val_loss: 0.4797 - val_accuracy: 0.8316\n",
            "\n",
            "Epoch 00007: val_accuracy did not improve from 0.83986\n",
            "Epoch 8/15\n",
            "462/462 [==============================] - 29s 62ms/step - loss: 0.3419 - accuracy: 0.8754 - val_loss: 0.4650 - val_accuracy: 0.8499\n",
            "\n",
            "Epoch 00008: val_accuracy improved from 0.83986 to 0.84987, saving model to /trainPNGSeg/Shareddrives/515_handwritten/trainPNGSeg\n",
            "INFO:tensorflow:Assets written to: /trainPNGSeg/Shareddrives/515_handwritten/trainPNGSeg/assets\n",
            "Epoch 9/15\n",
            "462/462 [==============================] - 29s 63ms/step - loss: 0.3201 - accuracy: 0.8870 - val_loss: 0.4483 - val_accuracy: 0.8355\n",
            "\n",
            "Epoch 00009: val_accuracy did not improve from 0.84987\n",
            "Epoch 10/15\n",
            "462/462 [==============================] - 30s 65ms/step - loss: 0.3100 - accuracy: 0.8898 - val_loss: 0.4667 - val_accuracy: 0.8455\n",
            "\n",
            "Epoch 00010: val_accuracy did not improve from 0.84987\n",
            "Epoch 11/15\n",
            "462/462 [==============================] - 30s 64ms/step - loss: 0.2645 - accuracy: 0.9078 - val_loss: 0.3902 - val_accuracy: 0.8647\n",
            "\n",
            "Epoch 00011: val_accuracy improved from 0.84987 to 0.86466, saving model to /trainPNGSeg/Shareddrives/515_handwritten/trainPNGSeg\n",
            "INFO:tensorflow:Assets written to: /trainPNGSeg/Shareddrives/515_handwritten/trainPNGSeg/assets\n",
            "Epoch 12/15\n",
            "462/462 [==============================] - 30s 64ms/step - loss: 0.2635 - accuracy: 0.9006 - val_loss: 0.3953 - val_accuracy: 0.8712\n",
            "\n",
            "Epoch 00012: val_accuracy improved from 0.86466 to 0.87119, saving model to /trainPNGSeg/Shareddrives/515_handwritten/trainPNGSeg\n",
            "INFO:tensorflow:Assets written to: /trainPNGSeg/Shareddrives/515_handwritten/trainPNGSeg/assets\n",
            "Epoch 13/15\n",
            "462/462 [==============================] - 30s 64ms/step - loss: 0.2627 - accuracy: 0.9082 - val_loss: 0.4196 - val_accuracy: 0.8581\n",
            "\n",
            "Epoch 00013: val_accuracy did not improve from 0.87119\n",
            "Epoch 14/15\n",
            "462/462 [==============================] - 29s 64ms/step - loss: 0.2491 - accuracy: 0.9037 - val_loss: 0.4192 - val_accuracy: 0.8660\n",
            "\n",
            "Epoch 00014: val_accuracy did not improve from 0.87119\n",
            "Epoch 15/15\n",
            "462/462 [==============================] - 29s 64ms/step - loss: 0.2499 - accuracy: 0.9070 - val_loss: 0.4430 - val_accuracy: 0.8677\n",
            "\n",
            "Epoch 00015: val_accuracy did not improve from 0.87119\n",
            "saving model...\n",
            "evaluating...\n",
            "154/154 [==============================] - 5s 35ms/step - loss: 0.4344 - accuracy: 0.8603\n",
            "Test Loss: 0.4344252943992615\n",
            "Test accuracy: 0.8603132963180542\n"
          ],
          "name": "stdout"
        }
      ]
    }
  ]
}