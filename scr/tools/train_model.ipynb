{
  "nbformat": 4,
  "nbformat_minor": 0,
  "metadata": {
    "colab": {
      "name": "train_model.ipynb",
      "provenance": [],
      "collapsed_sections": []
    },
    "kernelspec": {
      "name": "python3",
      "display_name": "Python 3"
    }
  },
  "cells": [
    {
      "cell_type": "code",
      "metadata": {
        "colab": {
          "base_uri": "https://localhost:8080/"
        },
        "id": "DQhtHayWVTo5",
        "outputId": "b26b5fa3-1b15-4c31-e8c9-f414164ba7b2"
      },
      "source": [
        "import os\n",
        "from google.colab import drive\n",
        "drive.mount(\"/trainPNGSeg/\")\n",
        "os.chdir(\"/trainPNGSeg/Shareddrives/515_handwritten/trainPNGSeg\")"
      ],
      "execution_count": 2,
      "outputs": [
        {
          "output_type": "stream",
          "text": [
            "Mounted at /trainPNGSeg/\n"
          ],
          "name": "stdout"
        }
      ]
    },
    {
      "cell_type": "code",
      "metadata": {
        "colab": {
          "base_uri": "https://localhost:8080/"
        },
        "id": "eOkxhmFZ-w6P",
        "outputId": "738e7a1a-0063-404d-e0ed-e3739db47f60"
      },
      "source": [
        "%ls"
      ],
      "execution_count": 3,
      "outputs": [
        {
          "output_type": "stream",
          "text": [
            "\u001b[0m\u001b[01;34m'='\u001b[0m/  \u001b[01;34m')'\u001b[0m/  \u001b[01;34m'{'\u001b[0m/   \u001b[01;34m0\u001b[0m/   \u001b[01;34m3\u001b[0m/   \u001b[01;34m6\u001b[0m/   \u001b[01;34m9\u001b[0m/     \u001b[01;34mgeq\u001b[0m/   \u001b[01;34mlt\u001b[0m/    \u001b[01;34mpm\u001b[0m/\n",
            " \u001b[01;34m-\u001b[0m/   \u001b[01;34m'['\u001b[0m/  \u001b[01;34m'}'\u001b[0m/   \u001b[01;34m1\u001b[0m/   \u001b[01;34m4\u001b[0m/   \u001b[01;34m7\u001b[0m/   \u001b[01;34mdiv\u001b[0m/   \u001b[01;34mgt\u001b[0m/    \u001b[01;34mneq\u001b[0m/   \u001b[01;34mtimes\u001b[0m/\n",
            "\u001b[01;34m'('\u001b[0m/   \u001b[01;34m]\u001b[0m/    \u001b[01;34m+\u001b[0m/    \u001b[01;34m2\u001b[0m/   \u001b[01;34m5\u001b[0m/   \u001b[01;34m8\u001b[0m/   \u001b[01;34me\u001b[0m/     \u001b[01;34mleq\u001b[0m/   \u001b[01;34mpi\u001b[0m/    \u001b[01;34mx\u001b[0m/\n"
          ],
          "name": "stdout"
        }
      ]
    },
    {
      "cell_type": "code",
      "metadata": {
        "colab": {
          "base_uri": "https://localhost:8080/"
        },
        "id": "bCPqle9QUwZK",
        "outputId": "80d4c430-473a-4812-eebd-3e3c8a08b182"
      },
      "source": [
        "import keras\n",
        "from keras.callbacks import ModelCheckpoint\n",
        "from keras.layers import Conv2D, MaxPooling2D, Flatten, Dense\n",
        "from keras.models import Sequential\n",
        "from keras.preprocessing.image import ImageDataGenerator\n",
        "\n",
        "# numClasses = how many characters total\n",
        "numClasses = 30\n",
        "\n",
        "# generate training data-75% and validation data-25%\n",
        "train_data_dir = \"/trainPNGSeg/Shareddrives/515_handwritten/trainPNGSeg\"\n",
        "data_gen = ImageDataGenerator(rescale=1./255, shear_range=0.2, zoom_range=0.2, horizontal_flip=True, validation_split=0.25)\n",
        "\n",
        "train_dataset = data_gen.flow_from_directory(train_data_dir, target_size=(32, 32), color_mode=\"grayscale\", batch_size= 15, subset='training')\n",
        "validation_dataset = data_gen.flow_from_directory(train_data_dir, target_size=(32, 32), color_mode=\"grayscale\", batch_size= 15, subset='validation')\n",
        "\n",
        "# overwrite and save the model with the best val_acc (the accuracy of a batch of testing data)\n",
        "checkpoint = ModelCheckpoint(train_data_dir, monitor='val_accuracy', verbose=1, save_best_only=True, mode='max')\n",
        "\n",
        "# initialize lenet model\n",
        "model = Sequential()\n",
        "model.add(Conv2D(filters=32, kernel_size=(3,3), strides=(1,1), input_shape = (32,32,1), activation = 'relu'))\n",
        "model.add(MaxPooling2D(pool_size=(2,2),strides=(1,1)))\n",
        "\n",
        "model.add(Conv2D(filters=64, kernel_size=(3,3), strides=(1,1), activation = 'relu'))\n",
        "model.add(MaxPooling2D(pool_size=(2,2),strides=(1,1)))\n",
        "\n",
        "model.add(Flatten())\n",
        "model.add(Dense(units=120, activation='relu'))\n",
        "model.add(Dense(units=84, activation='relu'))\n",
        "model.add(Dense(units=numClasses, activation = 'softmax'))\n",
        "\n",
        "# compile model & fit model with training and validation data\n",
        "model.compile(optimizer='adam', loss='categorical_crossentropy', metrics=['accuracy'])\n",
        "print(\"training...\")\n",
        "model.fit_generator(train_dataset, steps_per_epoch = len(train_dataset), validation_data = validation_dataset,  validation_steps = len(validation_dataset), epochs = 15, callbacks = [checkpoint])\n",
        "\n",
        "#saving model to .h5 file in train_data_dir\n",
        "print(\"saving model...\")\n",
        "model.save('LeNetModel.h5')\n",
        "\n",
        "print(\"evaluating...\")\n",
        "score = model.evaluate(validation_dataset)\n",
        "print('Test Loss:', score[0])\n",
        "print('Test accuracy:', score[1])"
      ],
      "execution_count": 14,
      "outputs": [
        {
          "output_type": "stream",
          "text": [
            "Found 8126 images belonging to 30 classes.\n",
            "Found 2698 images belonging to 30 classes.\n",
            "training...\n",
            "Epoch 1/15\n"
          ],
          "name": "stdout"
        },
        {
          "output_type": "stream",
          "text": [
            "/usr/local/lib/python3.7/dist-packages/tensorflow/python/keras/engine/training.py:1844: UserWarning: `Model.fit_generator` is deprecated and will be removed in a future version. Please use `Model.fit`, which supports generators.\n",
            "  warnings.warn('`Model.fit_generator` is deprecated and '\n"
          ],
          "name": "stderr"
        },
        {
          "output_type": "stream",
          "text": [
            "542/542 [==============================] - 68s 125ms/step - loss: 2.8763 - accuracy: 0.2080 - val_loss: 1.3129 - val_accuracy: 0.5801\n",
            "\n",
            "Epoch 00001: val_accuracy improved from -inf to 0.58006, saving model to /trainPNGSeg/Shareddrives/515_handwritten/trainPNGSeg\n",
            "INFO:tensorflow:Assets written to: /trainPNGSeg/Shareddrives/515_handwritten/trainPNGSeg/assets\n",
            "Epoch 2/15\n",
            "542/542 [==============================] - 67s 123ms/step - loss: 1.0707 - accuracy: 0.6606 - val_loss: 0.8934 - val_accuracy: 0.7105\n",
            "\n",
            "Epoch 00002: val_accuracy improved from 0.58006 to 0.71053, saving model to /trainPNGSeg/Shareddrives/515_handwritten/trainPNGSeg\n",
            "INFO:tensorflow:Assets written to: /trainPNGSeg/Shareddrives/515_handwritten/trainPNGSeg/assets\n",
            "Epoch 3/15\n",
            "542/542 [==============================] - 67s 124ms/step - loss: 0.7445 - accuracy: 0.7441 - val_loss: 0.7609 - val_accuracy: 0.7465\n",
            "\n",
            "Epoch 00003: val_accuracy improved from 0.71053 to 0.74648, saving model to /trainPNGSeg/Shareddrives/515_handwritten/trainPNGSeg\n",
            "INFO:tensorflow:Assets written to: /trainPNGSeg/Shareddrives/515_handwritten/trainPNGSeg/assets\n",
            "Epoch 4/15\n",
            "542/542 [==============================] - 68s 125ms/step - loss: 0.6287 - accuracy: 0.7855 - val_loss: 0.6891 - val_accuracy: 0.7557\n",
            "\n",
            "Epoch 00004: val_accuracy improved from 0.74648 to 0.75574, saving model to /trainPNGSeg/Shareddrives/515_handwritten/trainPNGSeg\n",
            "INFO:tensorflow:Assets written to: /trainPNGSeg/Shareddrives/515_handwritten/trainPNGSeg/assets\n",
            "Epoch 5/15\n",
            "542/542 [==============================] - 68s 125ms/step - loss: 0.5636 - accuracy: 0.8058 - val_loss: 0.5924 - val_accuracy: 0.8024\n",
            "\n",
            "Epoch 00005: val_accuracy improved from 0.75574 to 0.80245, saving model to /trainPNGSeg/Shareddrives/515_handwritten/trainPNGSeg\n",
            "INFO:tensorflow:Assets written to: /trainPNGSeg/Shareddrives/515_handwritten/trainPNGSeg/assets\n",
            "Epoch 6/15\n",
            "542/542 [==============================] - 67s 124ms/step - loss: 0.5045 - accuracy: 0.8240 - val_loss: 0.5967 - val_accuracy: 0.7984\n",
            "\n",
            "Epoch 00006: val_accuracy did not improve from 0.80245\n",
            "Epoch 7/15\n",
            "542/542 [==============================] - 67s 124ms/step - loss: 0.4586 - accuracy: 0.8361 - val_loss: 0.5681 - val_accuracy: 0.8173\n",
            "\n",
            "Epoch 00007: val_accuracy improved from 0.80245 to 0.81727, saving model to /trainPNGSeg/Shareddrives/515_handwritten/trainPNGSeg\n",
            "INFO:tensorflow:Assets written to: /trainPNGSeg/Shareddrives/515_handwritten/trainPNGSeg/assets\n",
            "Epoch 8/15\n",
            "542/542 [==============================] - 67s 124ms/step - loss: 0.4131 - accuracy: 0.8531 - val_loss: 0.5077 - val_accuracy: 0.8239\n",
            "\n",
            "Epoch 00008: val_accuracy improved from 0.81727 to 0.82394, saving model to /trainPNGSeg/Shareddrives/515_handwritten/trainPNGSeg\n",
            "INFO:tensorflow:Assets written to: /trainPNGSeg/Shareddrives/515_handwritten/trainPNGSeg/assets\n",
            "Epoch 9/15\n",
            "542/542 [==============================] - 67s 123ms/step - loss: 0.3977 - accuracy: 0.8608 - val_loss: 0.4459 - val_accuracy: 0.8403\n",
            "\n",
            "Epoch 00009: val_accuracy improved from 0.82394 to 0.84025, saving model to /trainPNGSeg/Shareddrives/515_handwritten/trainPNGSeg\n",
            "INFO:tensorflow:Assets written to: /trainPNGSeg/Shareddrives/515_handwritten/trainPNGSeg/assets\n",
            "Epoch 10/15\n",
            "542/542 [==============================] - 67s 124ms/step - loss: 0.3771 - accuracy: 0.8683 - val_loss: 0.4591 - val_accuracy: 0.8362\n",
            "\n",
            "Epoch 00010: val_accuracy did not improve from 0.84025\n",
            "Epoch 11/15\n",
            "542/542 [==============================] - 67s 124ms/step - loss: 0.3507 - accuracy: 0.8743 - val_loss: 0.5072 - val_accuracy: 0.8251\n",
            "\n",
            "Epoch 00011: val_accuracy did not improve from 0.84025\n",
            "Epoch 12/15\n",
            "542/542 [==============================] - 67s 124ms/step - loss: 0.3319 - accuracy: 0.8793 - val_loss: 0.4996 - val_accuracy: 0.8273\n",
            "\n",
            "Epoch 00012: val_accuracy did not improve from 0.84025\n",
            "Epoch 13/15\n",
            "542/542 [==============================] - 67s 123ms/step - loss: 0.2812 - accuracy: 0.9015 - val_loss: 0.4094 - val_accuracy: 0.8584\n",
            "\n",
            "Epoch 00013: val_accuracy improved from 0.84025 to 0.85841, saving model to /trainPNGSeg/Shareddrives/515_handwritten/trainPNGSeg\n",
            "INFO:tensorflow:Assets written to: /trainPNGSeg/Shareddrives/515_handwritten/trainPNGSeg/assets\n",
            "Epoch 14/15\n",
            "542/542 [==============================] - 67s 124ms/step - loss: 0.2774 - accuracy: 0.8956 - val_loss: 0.4294 - val_accuracy: 0.8577\n",
            "\n",
            "Epoch 00014: val_accuracy did not improve from 0.85841\n",
            "Epoch 15/15\n",
            "542/542 [==============================] - 67s 124ms/step - loss: 0.2616 - accuracy: 0.9076 - val_loss: 0.4193 - val_accuracy: 0.8655\n",
            "\n",
            "Epoch 00015: val_accuracy improved from 0.85841 to 0.86546, saving model to /trainPNGSeg/Shareddrives/515_handwritten/trainPNGSeg\n",
            "INFO:tensorflow:Assets written to: /trainPNGSeg/Shareddrives/515_handwritten/trainPNGSeg/assets\n",
            "saving model...\n",
            "evaluating...\n",
            "180/180 [==============================] - 8s 47ms/step - loss: 0.4014 - accuracy: 0.8684\n",
            "Test Loss: 0.4014253318309784\n",
            "Test accuracy: 0.8684210777282715\n"
          ],
          "name": "stdout"
        }
      ]
    }
  ]
}